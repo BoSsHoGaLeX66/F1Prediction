{
 "cells": [
  {
   "cell_type": "markdown",
   "id": "9d6ddaa3-7e29-4bc7-8cfe-d23827795018",
   "metadata": {},
   "source": [
    "# Final Project: F1 EDA"
   ]
  },
  {
   "cell_type": "markdown",
   "id": "6582cec2-555d-4335-a45c-5d28aa537150",
   "metadata": {},
   "source": [
    "Author: Alex Searle"
   ]
  },
  {
   "cell_type": "code",
   "execution_count": 1,
   "id": "587aa5de-8760-42f4-b2e0-afdd96fa6b7d",
   "metadata": {
    "ExecuteTime": {
     "end_time": "2024-03-27T23:40:49.937223Z",
     "start_time": "2024-03-27T23:40:49.516962Z"
    }
   },
   "outputs": [],
   "source": [
    "import pandas as pd\n",
    "import numpy as np\n",
    "import matplotlib.pyplot as plt\n",
    "import seaborn as sns\n",
    "from sklearn.model_selection import train_test_split, GridSearchCV, RandomizedSearchCV\n",
    "from sklearn.tree import DecisionTreeClassifier\n",
    "import swifter\n",
    "from datetime import datetime\n",
    "import warnings\n",
    "%matplotlib inline\n",
    "sns.set_theme(style='darkgrid')\n",
    "warnings.filterwarnings(action='once')"
   ]
  },
  {
   "cell_type": "markdown",
   "id": "19825b55-4d21-432c-b74d-51377f407d8c",
   "metadata": {},
   "source": [
    "## Data Preparation"
   ]
  },
  {
   "cell_type": "code",
   "execution_count": 2,
   "id": "94a06709-866d-49b3-8e21-126135b60543",
   "metadata": {
    "ExecuteTime": {
     "end_time": "2024-03-27T23:40:50.014472Z",
     "start_time": "2024-03-27T23:40:49.938391Z"
    }
   },
   "outputs": [],
   "source": [
    "# Reading in all the necessary data\n",
    "driver_standings_df = pd.read_csv('Data/driver_standings.csv')\n",
    "races_df = pd.read_csv('Data/races.csv')\n",
    "results_df = pd.read_csv('Data/results.csv')\n",
    "constructor_standings_df = pd.read_csv('Data/constructor_standings.csv')"
   ]
  },
  {
   "cell_type": "code",
   "execution_count": 3,
   "id": "5691bc12-b0a2-441d-9657-56ab5138e36c",
   "metadata": {
    "ExecuteTime": {
     "end_time": "2024-03-27T23:40:50.073249Z",
     "start_time": "2024-03-27T23:40:50.016046Z"
    }
   },
   "outputs": [
    {
     "name": "stdout",
     "output_type": "stream",
     "text": [
      "<class 'pandas.core.frame.DataFrame'>\n",
      "RangeIndex: 34684 entries, 0 to 34683\n",
      "Data columns (total 30 columns):\n",
      " #   Column                    Non-Null Count  Dtype  \n",
      "---  ------                    --------------  -----  \n",
      " 0   resultId                  26080 non-null  float64\n",
      " 1   raceId                    34684 non-null  int64  \n",
      " 2   driverId                  34684 non-null  int64  \n",
      " 3   constructorId             26080 non-null  float64\n",
      " 4   number                    26080 non-null  object \n",
      " 5   grid                      26080 non-null  float64\n",
      " 6   position_driver           26080 non-null  object \n",
      " 7   positionText_driver       26080 non-null  object \n",
      " 8   positionOrder             26080 non-null  float64\n",
      " 9   points_driver             26080 non-null  float64\n",
      " 10  laps                      26080 non-null  float64\n",
      " 11  time                      26080 non-null  object \n",
      " 12  milliseconds              26080 non-null  object \n",
      " 13  fastestLap                26080 non-null  object \n",
      " 14  rank                      26080 non-null  object \n",
      " 15  fastestLapTime            26080 non-null  object \n",
      " 16  fastestLapSpeed           26080 non-null  object \n",
      " 17  statusId                  26080 non-null  float64\n",
      " 18  year                      26080 non-null  float64\n",
      " 19  round                     26080 non-null  float64\n",
      " 20  driverStandingsId         34215 non-null  float64\n",
      " 21  points_extra              34215 non-null  float64\n",
      " 22  position_extra            34215 non-null  float64\n",
      " 23  positionText_extra        34215 non-null  object \n",
      " 24  wins_driver               34215 non-null  float64\n",
      " 25  constructorStandingsId    24213 non-null  float64\n",
      " 26  points_constructor        24213 non-null  float64\n",
      " 27  position_constructor      24213 non-null  float64\n",
      " 28  positionText_constructor  24213 non-null  object \n",
      " 29  wins_constructor          24213 non-null  float64\n",
      "dtypes: float64(17), int64(2), object(11)\n",
      "memory usage: 7.9+ MB\n"
     ]
    }
   ],
   "source": [
    "results_df = results_df.merge(races_df[['year','round', 'raceId']], left_on='raceId', right_on='raceId', how='left', suffixes=['','_drop'])\n",
    "results_df = results_df.merge(driver_standings_df, left_on=['driverId', 'raceId'], right_on=['driverId', 'raceId'], how='outer', suffixes=['', '_extra'])\n",
    "results_df = results_df.merge(constructor_standings_df, left_on=['constructorId', 'raceId'], right_on=['constructorId', 'raceId'], how='left', suffixes=['_driver', '_constructor'])\n",
    "results_df.info()"
   ]
  },
  {
   "cell_type": "code",
   "execution_count": 4,
   "id": "33b9213d-7198-48f8-a28f-e095925f67e3",
   "metadata": {
    "ExecuteTime": {
     "end_time": "2024-03-27T23:40:50.087855Z",
     "start_time": "2024-03-27T23:40:50.076042Z"
    }
   },
   "outputs": [],
   "source": [
    "drop_columns = []\n",
    "for column in results_df.columns:\n",
    "    if '_extra' in column:\n",
    "        drop_columns.append(column)\n",
    "results_df.drop(columns=drop_columns, inplace=True)\n",
    "results_df.drop(columns=['constructorStandingsId', 'constructorStandingsId', 'positionText_constructor', 'driverStandingsId', 'positionText_driver', 'points_driver', 'laps', 'time', 'milliseconds', 'fastestLap', 'rank', 'fastestLapTime', 'fastestLapSpeed'], inplace=True)"
   ]
  },
  {
   "cell_type": "code",
   "execution_count": 5,
   "id": "0d3a5d62-01df-4a91-8ccc-e4ae192315a6",
   "metadata": {
    "ExecuteTime": {
     "end_time": "2024-03-27T23:40:50.118428Z",
     "start_time": "2024-03-27T23:40:50.089243Z"
    }
   },
   "outputs": [
    {
     "name": "stdout",
     "output_type": "stream",
     "text": [
      "<class 'pandas.core.frame.DataFrame'>\n",
      "Index: 23939 entries, 0 to 26079\n",
      "Data columns (total 15 columns):\n",
      " #   Column                Non-Null Count  Dtype  \n",
      "---  ------                --------------  -----  \n",
      " 0   resultId              23939 non-null  float64\n",
      " 1   raceId                23939 non-null  int64  \n",
      " 2   driverId              23939 non-null  int64  \n",
      " 3   constructorId         23939 non-null  float64\n",
      " 4   number                23939 non-null  object \n",
      " 5   grid                  23939 non-null  float64\n",
      " 6   position_driver       23939 non-null  object \n",
      " 7   positionOrder         23939 non-null  float64\n",
      " 8   statusId              23939 non-null  float64\n",
      " 9   year                  23939 non-null  float64\n",
      " 10  round                 23939 non-null  float64\n",
      " 11  wins_driver           23939 non-null  float64\n",
      " 12  points_constructor    23939 non-null  float64\n",
      " 13  position_constructor  23939 non-null  float64\n",
      " 14  wins_constructor      23939 non-null  float64\n",
      "dtypes: float64(11), int64(2), object(2)\n",
      "memory usage: 2.9+ MB\n"
     ]
    }
   ],
   "source": [
    "results_df.dropna(inplace=True)\n",
    "results_df.info()"
   ]
  },
  {
   "cell_type": "markdown",
   "id": "a4986c3c-7ebc-43a2-b21a-af62382f0915",
   "metadata": {},
   "source": [
    "## Feature Engineering"
   ]
  },
  {
   "cell_type": "code",
   "execution_count": 6,
   "id": "8d708787-dc7c-4fa0-aa77-c1e1731f1e3b",
   "metadata": {
    "ExecuteTime": {
     "end_time": "2024-03-27T23:40:50.123866Z",
     "start_time": "2024-03-27T23:40:50.120185Z"
    }
   },
   "outputs": [],
   "source": [
    "def top3_finishes(row, df):\n",
    "    return df[(df.year == row.year) & (df['round'] < row['round']) & (df.positionOrder < 4) & (df.driverId == row.driverId)].positionOrder.count() / (row['round'] - 1) * 100"
   ]
  },
  {
   "cell_type": "code",
   "execution_count": 7,
   "id": "33800405-a588-4a33-b1c8-783c258d9017",
   "metadata": {
    "ExecuteTime": {
     "end_time": "2024-03-27T23:41:10.120352Z",
     "start_time": "2024-03-27T23:40:50.124929Z"
    }
   },
   "outputs": [
    {
     "name": "stderr",
     "output_type": "stream",
     "text": [
      "/home/alexsearle/anaconda3/envs/testing/lib/python3.8/site-packages/ipywidgets/widgets/widget.py:528: DeprecationWarning: The `ipykernel.comm.Comm` class has been deprecated. Please use the `comm` module instead.For creating comms, use the function `from comm import create_comm`.\n",
      "  self.comm = Comm(**args)\n"
     ]
    },
    {
     "data": {
      "text/plain": "Pandas Apply:   0%|          | 0/23939 [00:00<?, ?it/s]",
      "application/vnd.jupyter.widget-view+json": {
       "version_major": 2,
       "version_minor": 0,
       "model_id": "369bebd7da4f417986393e3bcc46b18b"
      }
     },
     "metadata": {},
     "output_type": "display_data"
    },
    {
     "name": "stderr",
     "output_type": "stream",
     "text": [
      "/tmp/ipykernel_8214/484512187.py:2: RuntimeWarning: invalid value encountered in divide\n",
      "  return df[(df.year == row.year) & (df['round'] < row['round']) & (df.positionOrder < 4) & (df.driverId == row.driverId)].positionOrder.count() / (row['round'] - 1) * 100\n"
     ]
    }
   ],
   "source": [
    "results_df['top3_driver_season_percentage'] = results_df.swifter.apply(top3_finishes, axis=1, args=(results_df,))"
   ]
  },
  {
   "cell_type": "code",
   "execution_count": 8,
   "id": "1d0aab48-d307-49e3-aa8b-5a2b67b03a7a",
   "metadata": {
    "ExecuteTime": {
     "end_time": "2024-03-27T23:41:10.125526Z",
     "start_time": "2024-03-27T23:41:10.122046Z"
    }
   },
   "outputs": [],
   "source": [
    "results_df['top_3'] = results_df.positionOrder < 4"
   ]
  },
  {
   "cell_type": "code",
   "execution_count": 9,
   "id": "60c7b5df-cd8e-498a-8214-01e0069b3091",
   "metadata": {
    "ExecuteTime": {
     "end_time": "2024-03-27T23:41:10.148530Z",
     "start_time": "2024-03-27T23:41:10.126614Z"
    }
   },
   "outputs": [],
   "source": [
    "def avg_finish_position_season(row, df):\n",
    "    return df[(df.driverId == row.driverId) & (df.year == df.year) & (df['round'] < row['round'])].positionOrder.mean()"
   ]
  },
  {
   "cell_type": "code",
   "execution_count": 10,
   "id": "05b7fb0c-679f-4a06-9f5e-401c7a1e7b2f",
   "metadata": {
    "ExecuteTime": {
     "end_time": "2024-03-27T23:41:30.004358Z",
     "start_time": "2024-03-27T23:41:10.150227Z"
    }
   },
   "outputs": [
    {
     "name": "stderr",
     "output_type": "stream",
     "text": [
      "/home/alexsearle/anaconda3/envs/testing/lib/python3.8/site-packages/ipywidgets/widgets/widget.py:528: DeprecationWarning: The `ipykernel.comm.Comm` class has been deprecated. Please use the `comm` module instead.For creating comms, use the function `from comm import create_comm`.\n",
      "  self.comm = Comm(**args)\n"
     ]
    },
    {
     "data": {
      "text/plain": "Pandas Apply:   0%|          | 0/23939 [00:00<?, ?it/s]",
      "application/vnd.jupyter.widget-view+json": {
       "version_major": 2,
       "version_minor": 0,
       "model_id": "ad9afcec094d4e069358d4c87732e85c"
      }
     },
     "metadata": {},
     "output_type": "display_data"
    }
   ],
   "source": [
    "results_df['driver_avg_finish_pos_season'] = results_df.swifter.apply(avg_finish_position_season, axis=1, args=(results_df,))"
   ]
  },
  {
   "cell_type": "code",
   "execution_count": 11,
   "id": "e8157447-bbc6-4d90-8e66-85424d6b49e8",
   "metadata": {
    "ExecuteTime": {
     "end_time": "2024-03-27T23:41:30.009759Z",
     "start_time": "2024-03-27T23:41:30.005486Z"
    }
   },
   "outputs": [],
   "source": [
    "def constructor_top_3(row, df):\n",
    "    return (df[(df['year'] == row.year) & (df.constructorId == row.constructorId) & (\n",
    "                df['round'] < row['round'])].top_3.sum()) / ((row['round'] - 1) * 2) * 100"
   ]
  },
  {
   "cell_type": "code",
   "execution_count": 12,
   "id": "9c1340daea6f4c39",
   "metadata": {
    "collapsed": false,
    "ExecuteTime": {
     "end_time": "2024-03-27T23:41:48.922871Z",
     "start_time": "2024-03-27T23:41:30.011132Z"
    }
   },
   "outputs": [
    {
     "name": "stderr",
     "output_type": "stream",
     "text": [
      "/home/alexsearle/anaconda3/envs/testing/lib/python3.8/site-packages/ipywidgets/widgets/widget.py:528: DeprecationWarning: The `ipykernel.comm.Comm` class has been deprecated. Please use the `comm` module instead.For creating comms, use the function `from comm import create_comm`.\n",
      "  self.comm = Comm(**args)\n"
     ]
    },
    {
     "data": {
      "text/plain": "Pandas Apply:   0%|          | 0/23939 [00:00<?, ?it/s]",
      "application/vnd.jupyter.widget-view+json": {
       "version_major": 2,
       "version_minor": 0,
       "model_id": "28eeb88db3164de8a57f0db93b4b5827"
      }
     },
     "metadata": {},
     "output_type": "display_data"
    },
    {
     "name": "stderr",
     "output_type": "stream",
     "text": [
      "/tmp/ipykernel_8214/319467576.py:2: RuntimeWarning: invalid value encountered in divide\n",
      "  return (df[(df['year'] == row.year) & (df.constructorId == row.constructorId) & (\n"
     ]
    }
   ],
   "source": [
    "results_df['Constructor_Top3_Percent'] = results_df.swifter.apply(constructor_top_3, axis=1, args=(results_df,))"
   ]
  },
  {
   "cell_type": "code",
   "execution_count": 13,
   "id": "b5de470b-1936-441b-b576-f84cd3e662e8",
   "metadata": {
    "ExecuteTime": {
     "end_time": "2024-03-27T23:41:48.936523Z",
     "start_time": "2024-03-27T23:41:48.924933Z"
    }
   },
   "outputs": [],
   "source": [
    "results_df.sort_values(['year', 'round'], ascending=False, inplace=True, ignore_index=True)"
   ]
  },
  {
   "cell_type": "code",
   "execution_count": 14,
   "id": "9ba675ee-b8c5-4b77-b092-ae8671b90e9b",
   "metadata": {
    "ExecuteTime": {
     "end_time": "2024-03-27T23:41:48.965534Z",
     "start_time": "2024-03-27T23:41:48.938470Z"
    }
   },
   "outputs": [
    {
     "name": "stdout",
     "output_type": "stream",
     "text": [
      "<class 'pandas.core.frame.DataFrame'>\n",
      "RangeIndex: 23939 entries, 0 to 23938\n",
      "Data columns (total 19 columns):\n",
      " #   Column                         Non-Null Count  Dtype  \n",
      "---  ------                         --------------  -----  \n",
      " 0   resultId                       23939 non-null  float64\n",
      " 1   raceId                         23939 non-null  int64  \n",
      " 2   driverId                       23939 non-null  int64  \n",
      " 3   constructorId                  23939 non-null  float64\n",
      " 4   number                         23939 non-null  object \n",
      " 5   grid                           23939 non-null  float64\n",
      " 6   position_driver                23939 non-null  object \n",
      " 7   positionOrder                  23939 non-null  float64\n",
      " 8   statusId                       23939 non-null  float64\n",
      " 9   year                           23939 non-null  float64\n",
      " 10  round                          23939 non-null  float64\n",
      " 11  wins_driver                    23939 non-null  float64\n",
      " 12  points_constructor             23939 non-null  float64\n",
      " 13  position_constructor           23939 non-null  float64\n",
      " 14  wins_constructor               23939 non-null  float64\n",
      " 15  top3_driver_season_percentage  22590 non-null  float64\n",
      " 16  top_3                          23939 non-null  bool   \n",
      " 17  driver_avg_finish_pos_season   22313 non-null  float64\n",
      " 18  Constructor_Top3_Percent       22590 non-null  float64\n",
      "dtypes: bool(1), float64(14), int64(2), object(2)\n",
      "memory usage: 3.3+ MB\n"
     ]
    }
   ],
   "source": [
    "results_df.info()"
   ]
  },
  {
   "cell_type": "code",
   "execution_count": 15,
   "id": "dc5becb491fb5114",
   "metadata": {
    "collapsed": false,
    "ExecuteTime": {
     "end_time": "2024-03-27T23:41:48.995842Z",
     "start_time": "2024-03-27T23:41:48.968138Z"
    }
   },
   "outputs": [],
   "source": [
    "lag_df = results_df.copy()\n",
    "lag_df['year'] = lag_df['year'] + 1\n",
    "results_df = results_df.merge(lag_df[['top3_driver_season_percentage', 'driver_avg_finish_pos_season', 'Constructor_Top3_Percent','year', 'round', 'driverId']],on=['year', 'round', 'driverId'], how='left', suffixes=('', '_lag'))"
   ]
  },
  {
   "cell_type": "code",
   "execution_count": 16,
   "id": "c1569b504b0592e",
   "metadata": {
    "collapsed": false,
    "ExecuteTime": {
     "end_time": "2024-03-27T23:41:49.064430Z",
     "start_time": "2024-03-27T23:41:48.998368Z"
    }
   },
   "outputs": [
    {
     "data": {
      "text/plain": "    resultId  raceId  driverId  constructorId number  grid  \\\n0    26066.0    1110       830            9.0      1   6.0   \n1    26067.0    1110       815            9.0     11   2.0   \n2    26068.0    1110       844            6.0     16   1.0   \n3    26069.0    1110         1          131.0     44   3.0   \n4    26070.0    1110         4          117.0     14   9.0   \n5    26071.0    1110       847          131.0     63   8.0   \n6    26072.0    1110       846            1.0      4   7.0   \n7    26073.0    1110       839          214.0     31  14.0   \n8    26074.0    1110       840          117.0     18  10.0   \n9    26075.0    1110       852          213.0     22  11.0   \n10   26076.0    1110       842          214.0     10  12.0   \n11   26077.0    1110       822           51.0     77  13.0   \n12   26078.0    1110       855           51.0     24  17.0   \n13   26079.0    1110       848            3.0     23  15.0   \n14   26080.0    1110       825          210.0     20  16.0   \n15   26081.0    1110       817          213.0      3  19.0   \n16   26082.0    1110       858            3.0      2  18.0   \n17   26083.0    1110       807          210.0     27   0.0   \n18   26084.0    1110       832            6.0     55   4.0   \n19   26085.0    1110       857            1.0     81   5.0   \n\n   position_driver_drop  positionOrder  statusId    year  ...  \\\n0                     1            1.0       1.0  2023.0  ...   \n1                     2            2.0       1.0  2023.0  ...   \n2                     3            3.0       1.0  2023.0  ...   \n3                     4            4.0       1.0  2023.0  ...   \n4                     5            5.0       1.0  2023.0  ...   \n5                     6            6.0       1.0  2023.0  ...   \n6                     7            7.0       1.0  2023.0  ...   \n7                     8            8.0       1.0  2023.0  ...   \n8                     9            9.0       1.0  2023.0  ...   \n9                    10           10.0       1.0  2023.0  ...   \n10                   11           11.0       1.0  2023.0  ...   \n11                   12           12.0       1.0  2023.0  ...   \n12                   13           13.0       1.0  2023.0  ...   \n13                   14           14.0       1.0  2023.0  ...   \n14                   15           15.0       1.0  2023.0  ...   \n15                   16           16.0       1.0  2023.0  ...   \n16                   17           17.0       1.0  2023.0  ...   \n17                   18           18.0       1.0  2023.0  ...   \n18                   \\N           19.0     130.0  2023.0  ...   \n19                   \\N           20.0     130.0  2023.0  ...   \n\n    wins_constructor  top3_driver_season_percentage  top_3  \\\n0               12.0                     100.000000   True   \n1               12.0                      54.545455   True   \n2                0.0                      18.181818   True   \n3                0.0                      36.363636  False   \n4                0.0                      54.545455  False   \n5                0.0                       9.090909  False   \n6                0.0                      18.181818  False   \n7                0.0                       9.090909  False   \n8                0.0                       0.000000  False   \n9                0.0                       0.000000  False   \n10               0.0                       0.000000  False   \n11               0.0                       0.000000  False   \n12               0.0                       0.000000  False   \n13               0.0                       0.000000  False   \n14               0.0                       0.000000  False   \n15               0.0                       0.000000  False   \n16               0.0                       0.000000  False   \n17               0.0                       0.000000  False   \n18               0.0                       0.000000  False   \n19               0.0                       0.000000  False   \n\n    driver_avg_finish_pos_season  Constructor_Top3_Percent  \\\n0                       6.646465                 77.272727   \n1                       9.517986                 77.272727   \n2                       8.772727                  9.090909   \n3                       4.295699                 22.727273   \n4                       7.976959                 27.272727   \n5                      11.818182                 22.727273   \n6                       9.181818                  9.090909   \n7                      10.469697                  4.545455   \n8                      11.986842                 27.272727   \n9                      12.818182                  0.000000   \n10                     11.090909                  4.545455   \n11                      7.752066                  0.000000   \n12                     14.318182                  0.000000   \n13                     11.704545                  0.000000   \n14                     13.033708                  0.000000   \n15                      9.784000                  0.000000   \n16                     16.363636                  0.000000   \n17                     12.252174                  0.000000   \n18                      9.737374                  9.090909   \n19                     12.000000                  9.090909   \n\n    top3_driver_season_percentage_lag  driver_avg_finish_pos_season_lag  \\\n0                           72.727273                          6.646465   \n1                           54.545455                          9.517986   \n2                           45.454545                          8.772727   \n3                           36.363636                          4.295699   \n4                            0.000000                          7.976959   \n5                           27.272727                         11.818182   \n6                            9.090909                          9.181818   \n7                            0.000000                         10.469697   \n8                            0.000000                         11.986842   \n9                            0.000000                         12.818182   \n10                           0.000000                         11.090909   \n11                           0.000000                          7.752066   \n12                           0.000000                         14.318182   \n13                           0.000000                         11.704545   \n14                           0.000000                         13.033708   \n15                           0.000000                          9.784000   \n16                                NaN                               NaN   \n17                                NaN                               NaN   \n18                          54.545455                          9.737374   \n19                                NaN                               NaN   \n\n    Constructor_Top3_Percent_lag  position_driver  position_constructor  \n0                      63.636364                1                   1.0  \n1                      63.636364                2                   1.0  \n2                      50.000000                3                   4.0  \n3                      31.818182                4                   2.0  \n4                       0.000000                5                   3.0  \n5                      31.818182                6                   2.0  \n6                       4.545455                7                   5.0  \n7                       0.000000                8                   6.0  \n8                       0.000000                9                   3.0  \n9                       0.000000               10                  10.0  \n10                      0.000000               11                   6.0  \n11                      0.000000               12                   9.0  \n12                      0.000000               13                   9.0  \n13                      0.000000               14                   7.0  \n14                      0.000000               15                   8.0  \n15                      4.545455               16                  10.0  \n16                           NaN               17                   7.0  \n17                           NaN               18                   8.0  \n18                     50.000000               \\N                   4.0  \n19                           NaN               \\N                   5.0  \n\n[20 rows x 24 columns]",
      "text/html": "<div>\n<style scoped>\n    .dataframe tbody tr th:only-of-type {\n        vertical-align: middle;\n    }\n\n    .dataframe tbody tr th {\n        vertical-align: top;\n    }\n\n    .dataframe thead th {\n        text-align: right;\n    }\n</style>\n<table border=\"1\" class=\"dataframe\">\n  <thead>\n    <tr style=\"text-align: right;\">\n      <th></th>\n      <th>resultId</th>\n      <th>raceId</th>\n      <th>driverId</th>\n      <th>constructorId</th>\n      <th>number</th>\n      <th>grid</th>\n      <th>position_driver_drop</th>\n      <th>positionOrder</th>\n      <th>statusId</th>\n      <th>year</th>\n      <th>...</th>\n      <th>wins_constructor</th>\n      <th>top3_driver_season_percentage</th>\n      <th>top_3</th>\n      <th>driver_avg_finish_pos_season</th>\n      <th>Constructor_Top3_Percent</th>\n      <th>top3_driver_season_percentage_lag</th>\n      <th>driver_avg_finish_pos_season_lag</th>\n      <th>Constructor_Top3_Percent_lag</th>\n      <th>position_driver</th>\n      <th>position_constructor</th>\n    </tr>\n  </thead>\n  <tbody>\n    <tr>\n      <th>0</th>\n      <td>26066.0</td>\n      <td>1110</td>\n      <td>830</td>\n      <td>9.0</td>\n      <td>1</td>\n      <td>6.0</td>\n      <td>1</td>\n      <td>1.0</td>\n      <td>1.0</td>\n      <td>2023.0</td>\n      <td>...</td>\n      <td>12.0</td>\n      <td>100.000000</td>\n      <td>True</td>\n      <td>6.646465</td>\n      <td>77.272727</td>\n      <td>72.727273</td>\n      <td>6.646465</td>\n      <td>63.636364</td>\n      <td>1</td>\n      <td>1.0</td>\n    </tr>\n    <tr>\n      <th>1</th>\n      <td>26067.0</td>\n      <td>1110</td>\n      <td>815</td>\n      <td>9.0</td>\n      <td>11</td>\n      <td>2.0</td>\n      <td>2</td>\n      <td>2.0</td>\n      <td>1.0</td>\n      <td>2023.0</td>\n      <td>...</td>\n      <td>12.0</td>\n      <td>54.545455</td>\n      <td>True</td>\n      <td>9.517986</td>\n      <td>77.272727</td>\n      <td>54.545455</td>\n      <td>9.517986</td>\n      <td>63.636364</td>\n      <td>2</td>\n      <td>1.0</td>\n    </tr>\n    <tr>\n      <th>2</th>\n      <td>26068.0</td>\n      <td>1110</td>\n      <td>844</td>\n      <td>6.0</td>\n      <td>16</td>\n      <td>1.0</td>\n      <td>3</td>\n      <td>3.0</td>\n      <td>1.0</td>\n      <td>2023.0</td>\n      <td>...</td>\n      <td>0.0</td>\n      <td>18.181818</td>\n      <td>True</td>\n      <td>8.772727</td>\n      <td>9.090909</td>\n      <td>45.454545</td>\n      <td>8.772727</td>\n      <td>50.000000</td>\n      <td>3</td>\n      <td>4.0</td>\n    </tr>\n    <tr>\n      <th>3</th>\n      <td>26069.0</td>\n      <td>1110</td>\n      <td>1</td>\n      <td>131.0</td>\n      <td>44</td>\n      <td>3.0</td>\n      <td>4</td>\n      <td>4.0</td>\n      <td>1.0</td>\n      <td>2023.0</td>\n      <td>...</td>\n      <td>0.0</td>\n      <td>36.363636</td>\n      <td>False</td>\n      <td>4.295699</td>\n      <td>22.727273</td>\n      <td>36.363636</td>\n      <td>4.295699</td>\n      <td>31.818182</td>\n      <td>4</td>\n      <td>2.0</td>\n    </tr>\n    <tr>\n      <th>4</th>\n      <td>26070.0</td>\n      <td>1110</td>\n      <td>4</td>\n      <td>117.0</td>\n      <td>14</td>\n      <td>9.0</td>\n      <td>5</td>\n      <td>5.0</td>\n      <td>1.0</td>\n      <td>2023.0</td>\n      <td>...</td>\n      <td>0.0</td>\n      <td>54.545455</td>\n      <td>False</td>\n      <td>7.976959</td>\n      <td>27.272727</td>\n      <td>0.000000</td>\n      <td>7.976959</td>\n      <td>0.000000</td>\n      <td>5</td>\n      <td>3.0</td>\n    </tr>\n    <tr>\n      <th>5</th>\n      <td>26071.0</td>\n      <td>1110</td>\n      <td>847</td>\n      <td>131.0</td>\n      <td>63</td>\n      <td>8.0</td>\n      <td>6</td>\n      <td>6.0</td>\n      <td>1.0</td>\n      <td>2023.0</td>\n      <td>...</td>\n      <td>0.0</td>\n      <td>9.090909</td>\n      <td>False</td>\n      <td>11.818182</td>\n      <td>22.727273</td>\n      <td>27.272727</td>\n      <td>11.818182</td>\n      <td>31.818182</td>\n      <td>6</td>\n      <td>2.0</td>\n    </tr>\n    <tr>\n      <th>6</th>\n      <td>26072.0</td>\n      <td>1110</td>\n      <td>846</td>\n      <td>1.0</td>\n      <td>4</td>\n      <td>7.0</td>\n      <td>7</td>\n      <td>7.0</td>\n      <td>1.0</td>\n      <td>2023.0</td>\n      <td>...</td>\n      <td>0.0</td>\n      <td>18.181818</td>\n      <td>False</td>\n      <td>9.181818</td>\n      <td>9.090909</td>\n      <td>9.090909</td>\n      <td>9.181818</td>\n      <td>4.545455</td>\n      <td>7</td>\n      <td>5.0</td>\n    </tr>\n    <tr>\n      <th>7</th>\n      <td>26073.0</td>\n      <td>1110</td>\n      <td>839</td>\n      <td>214.0</td>\n      <td>31</td>\n      <td>14.0</td>\n      <td>8</td>\n      <td>8.0</td>\n      <td>1.0</td>\n      <td>2023.0</td>\n      <td>...</td>\n      <td>0.0</td>\n      <td>9.090909</td>\n      <td>False</td>\n      <td>10.469697</td>\n      <td>4.545455</td>\n      <td>0.000000</td>\n      <td>10.469697</td>\n      <td>0.000000</td>\n      <td>8</td>\n      <td>6.0</td>\n    </tr>\n    <tr>\n      <th>8</th>\n      <td>26074.0</td>\n      <td>1110</td>\n      <td>840</td>\n      <td>117.0</td>\n      <td>18</td>\n      <td>10.0</td>\n      <td>9</td>\n      <td>9.0</td>\n      <td>1.0</td>\n      <td>2023.0</td>\n      <td>...</td>\n      <td>0.0</td>\n      <td>0.000000</td>\n      <td>False</td>\n      <td>11.986842</td>\n      <td>27.272727</td>\n      <td>0.000000</td>\n      <td>11.986842</td>\n      <td>0.000000</td>\n      <td>9</td>\n      <td>3.0</td>\n    </tr>\n    <tr>\n      <th>9</th>\n      <td>26075.0</td>\n      <td>1110</td>\n      <td>852</td>\n      <td>213.0</td>\n      <td>22</td>\n      <td>11.0</td>\n      <td>10</td>\n      <td>10.0</td>\n      <td>1.0</td>\n      <td>2023.0</td>\n      <td>...</td>\n      <td>0.0</td>\n      <td>0.000000</td>\n      <td>False</td>\n      <td>12.818182</td>\n      <td>0.000000</td>\n      <td>0.000000</td>\n      <td>12.818182</td>\n      <td>0.000000</td>\n      <td>10</td>\n      <td>10.0</td>\n    </tr>\n    <tr>\n      <th>10</th>\n      <td>26076.0</td>\n      <td>1110</td>\n      <td>842</td>\n      <td>214.0</td>\n      <td>10</td>\n      <td>12.0</td>\n      <td>11</td>\n      <td>11.0</td>\n      <td>1.0</td>\n      <td>2023.0</td>\n      <td>...</td>\n      <td>0.0</td>\n      <td>0.000000</td>\n      <td>False</td>\n      <td>11.090909</td>\n      <td>4.545455</td>\n      <td>0.000000</td>\n      <td>11.090909</td>\n      <td>0.000000</td>\n      <td>11</td>\n      <td>6.0</td>\n    </tr>\n    <tr>\n      <th>11</th>\n      <td>26077.0</td>\n      <td>1110</td>\n      <td>822</td>\n      <td>51.0</td>\n      <td>77</td>\n      <td>13.0</td>\n      <td>12</td>\n      <td>12.0</td>\n      <td>1.0</td>\n      <td>2023.0</td>\n      <td>...</td>\n      <td>0.0</td>\n      <td>0.000000</td>\n      <td>False</td>\n      <td>7.752066</td>\n      <td>0.000000</td>\n      <td>0.000000</td>\n      <td>7.752066</td>\n      <td>0.000000</td>\n      <td>12</td>\n      <td>9.0</td>\n    </tr>\n    <tr>\n      <th>12</th>\n      <td>26078.0</td>\n      <td>1110</td>\n      <td>855</td>\n      <td>51.0</td>\n      <td>24</td>\n      <td>17.0</td>\n      <td>13</td>\n      <td>13.0</td>\n      <td>1.0</td>\n      <td>2023.0</td>\n      <td>...</td>\n      <td>0.0</td>\n      <td>0.000000</td>\n      <td>False</td>\n      <td>14.318182</td>\n      <td>0.000000</td>\n      <td>0.000000</td>\n      <td>14.318182</td>\n      <td>0.000000</td>\n      <td>13</td>\n      <td>9.0</td>\n    </tr>\n    <tr>\n      <th>13</th>\n      <td>26079.0</td>\n      <td>1110</td>\n      <td>848</td>\n      <td>3.0</td>\n      <td>23</td>\n      <td>15.0</td>\n      <td>14</td>\n      <td>14.0</td>\n      <td>1.0</td>\n      <td>2023.0</td>\n      <td>...</td>\n      <td>0.0</td>\n      <td>0.000000</td>\n      <td>False</td>\n      <td>11.704545</td>\n      <td>0.000000</td>\n      <td>0.000000</td>\n      <td>11.704545</td>\n      <td>0.000000</td>\n      <td>14</td>\n      <td>7.0</td>\n    </tr>\n    <tr>\n      <th>14</th>\n      <td>26080.0</td>\n      <td>1110</td>\n      <td>825</td>\n      <td>210.0</td>\n      <td>20</td>\n      <td>16.0</td>\n      <td>15</td>\n      <td>15.0</td>\n      <td>1.0</td>\n      <td>2023.0</td>\n      <td>...</td>\n      <td>0.0</td>\n      <td>0.000000</td>\n      <td>False</td>\n      <td>13.033708</td>\n      <td>0.000000</td>\n      <td>0.000000</td>\n      <td>13.033708</td>\n      <td>0.000000</td>\n      <td>15</td>\n      <td>8.0</td>\n    </tr>\n    <tr>\n      <th>15</th>\n      <td>26081.0</td>\n      <td>1110</td>\n      <td>817</td>\n      <td>213.0</td>\n      <td>3</td>\n      <td>19.0</td>\n      <td>16</td>\n      <td>16.0</td>\n      <td>1.0</td>\n      <td>2023.0</td>\n      <td>...</td>\n      <td>0.0</td>\n      <td>0.000000</td>\n      <td>False</td>\n      <td>9.784000</td>\n      <td>0.000000</td>\n      <td>0.000000</td>\n      <td>9.784000</td>\n      <td>4.545455</td>\n      <td>16</td>\n      <td>10.0</td>\n    </tr>\n    <tr>\n      <th>16</th>\n      <td>26082.0</td>\n      <td>1110</td>\n      <td>858</td>\n      <td>3.0</td>\n      <td>2</td>\n      <td>18.0</td>\n      <td>17</td>\n      <td>17.0</td>\n      <td>1.0</td>\n      <td>2023.0</td>\n      <td>...</td>\n      <td>0.0</td>\n      <td>0.000000</td>\n      <td>False</td>\n      <td>16.363636</td>\n      <td>0.000000</td>\n      <td>NaN</td>\n      <td>NaN</td>\n      <td>NaN</td>\n      <td>17</td>\n      <td>7.0</td>\n    </tr>\n    <tr>\n      <th>17</th>\n      <td>26083.0</td>\n      <td>1110</td>\n      <td>807</td>\n      <td>210.0</td>\n      <td>27</td>\n      <td>0.0</td>\n      <td>18</td>\n      <td>18.0</td>\n      <td>1.0</td>\n      <td>2023.0</td>\n      <td>...</td>\n      <td>0.0</td>\n      <td>0.000000</td>\n      <td>False</td>\n      <td>12.252174</td>\n      <td>0.000000</td>\n      <td>NaN</td>\n      <td>NaN</td>\n      <td>NaN</td>\n      <td>18</td>\n      <td>8.0</td>\n    </tr>\n    <tr>\n      <th>18</th>\n      <td>26084.0</td>\n      <td>1110</td>\n      <td>832</td>\n      <td>6.0</td>\n      <td>55</td>\n      <td>4.0</td>\n      <td>\\N</td>\n      <td>19.0</td>\n      <td>130.0</td>\n      <td>2023.0</td>\n      <td>...</td>\n      <td>0.0</td>\n      <td>0.000000</td>\n      <td>False</td>\n      <td>9.737374</td>\n      <td>9.090909</td>\n      <td>54.545455</td>\n      <td>9.737374</td>\n      <td>50.000000</td>\n      <td>\\N</td>\n      <td>4.0</td>\n    </tr>\n    <tr>\n      <th>19</th>\n      <td>26085.0</td>\n      <td>1110</td>\n      <td>857</td>\n      <td>1.0</td>\n      <td>81</td>\n      <td>5.0</td>\n      <td>\\N</td>\n      <td>20.0</td>\n      <td>130.0</td>\n      <td>2023.0</td>\n      <td>...</td>\n      <td>0.0</td>\n      <td>0.000000</td>\n      <td>False</td>\n      <td>12.000000</td>\n      <td>9.090909</td>\n      <td>NaN</td>\n      <td>NaN</td>\n      <td>NaN</td>\n      <td>\\N</td>\n      <td>5.0</td>\n    </tr>\n  </tbody>\n</table>\n<p>20 rows × 24 columns</p>\n</div>"
     },
     "execution_count": 16,
     "metadata": {},
     "output_type": "execute_result"
    }
   ],
   "source": [
    "one_race_lag_df = results_df.copy()\n",
    "one_race_lag_df.index = one_race_lag_df.index + 1\n",
    "results_df = pd.merge(results_df, one_race_lag_df[['position_driver', 'position_constructor', 'year', 'round', 'driverId']], on=['year', 'round', 'driverId'], how='left', suffixes=('_drop', ''))\n",
    "results_df.head(20)"
   ]
  },
  {
   "cell_type": "code",
   "execution_count": 17,
   "id": "33229b4e-0286-4f66-b244-e11658d87039",
   "metadata": {
    "ExecuteTime": {
     "end_time": "2024-03-27T23:41:49.082632Z",
     "start_time": "2024-03-27T23:41:49.066361Z"
    }
   },
   "outputs": [
    {
     "name": "stdout",
     "output_type": "stream",
     "text": [
      "<class 'pandas.core.frame.DataFrame'>\n",
      "RangeIndex: 23967 entries, 0 to 23966\n",
      "Data columns (total 24 columns):\n",
      " #   Column                             Non-Null Count  Dtype  \n",
      "---  ------                             --------------  -----  \n",
      " 0   resultId                           23967 non-null  float64\n",
      " 1   raceId                             23967 non-null  int64  \n",
      " 2   driverId                           23967 non-null  int64  \n",
      " 3   constructorId                      23967 non-null  float64\n",
      " 4   number                             23967 non-null  object \n",
      " 5   grid                               23967 non-null  float64\n",
      " 6   position_driver_drop               23967 non-null  object \n",
      " 7   positionOrder                      23967 non-null  float64\n",
      " 8   statusId                           23967 non-null  float64\n",
      " 9   year                               23967 non-null  float64\n",
      " 10  round                              23967 non-null  float64\n",
      " 11  wins_driver                        23967 non-null  float64\n",
      " 12  points_constructor                 23967 non-null  float64\n",
      " 13  position_constructor_drop          23967 non-null  float64\n",
      " 14  wins_constructor                   23967 non-null  float64\n",
      " 15  top3_driver_season_percentage      22613 non-null  float64\n",
      " 16  top_3                              23967 non-null  bool   \n",
      " 17  driver_avg_finish_pos_season       22334 non-null  float64\n",
      " 18  Constructor_Top3_Percent           22613 non-null  float64\n",
      " 19  top3_driver_season_percentage_lag  15159 non-null  float64\n",
      " 20  driver_avg_finish_pos_season_lag   15134 non-null  float64\n",
      " 21  Constructor_Top3_Percent_lag       15159 non-null  float64\n",
      " 22  position_driver                    23967 non-null  object \n",
      " 23  position_constructor               23967 non-null  float64\n",
      "dtypes: bool(1), float64(18), int64(2), object(3)\n",
      "memory usage: 4.2+ MB\n"
     ]
    }
   ],
   "source": [
    "results_df.info()"
   ]
  },
  {
   "cell_type": "code",
   "execution_count": 18,
   "id": "50441695-d4fb-4148-838a-41308d32409c",
   "metadata": {
    "ExecuteTime": {
     "end_time": "2024-03-27T23:41:49.111646Z",
     "start_time": "2024-03-27T23:41:49.084472Z"
    }
   },
   "outputs": [
    {
     "name": "stdout",
     "output_type": "stream",
     "text": [
      "<class 'pandas.core.frame.DataFrame'>\n",
      "Index: 15134 entries, 0 to 23728\n",
      "Data columns (total 14 columns):\n",
      " #   Column                             Non-Null Count  Dtype  \n",
      "---  ------                             --------------  -----  \n",
      " 0   number                             15134 non-null  object \n",
      " 1   grid                               15134 non-null  float64\n",
      " 2   positionOrder                      15134 non-null  float64\n",
      " 3   statusId                           15134 non-null  float64\n",
      " 4   year                               15134 non-null  float64\n",
      " 5   points_constructor                 15134 non-null  float64\n",
      " 6   top3_driver_season_percentage      15134 non-null  float64\n",
      " 7   top_3                              15134 non-null  bool   \n",
      " 8   driver_avg_finish_pos_season       15134 non-null  float64\n",
      " 9   Constructor_Top3_Percent           15134 non-null  float64\n",
      " 10  top3_driver_season_percentage_lag  15134 non-null  float64\n",
      " 11  driver_avg_finish_pos_season_lag   15134 non-null  float64\n",
      " 12  Constructor_Top3_Percent_lag       15134 non-null  float64\n",
      " 13  position_constructor               15134 non-null  float64\n",
      "dtypes: bool(1), float64(12), object(1)\n",
      "memory usage: 1.6+ MB\n"
     ]
    }
   ],
   "source": [
    "results_df.dropna(inplace=True)\n",
    "results_df.drop(columns=['position_driver'], inplace=True)\n",
    "results_df.drop(columns=['position_driver_drop', 'wins_driver', 'position_constructor_drop',\n",
    "                        'wins_constructor', 'resultId', 'raceId', 'driverId', 'constructorId', 'round'], inplace=True)\n",
    "results_df[['positionOrder', 'grid']].astype('int')\n",
    "results_df.info()"
   ]
  },
  {
   "cell_type": "code",
   "execution_count": 19,
   "id": "3803eb69-da2a-43dc-843d-8c8788d6d782",
   "metadata": {
    "ExecuteTime": {
     "end_time": "2024-03-27T23:41:49.245867Z",
     "start_time": "2024-03-27T23:41:49.113435Z"
    }
   },
   "outputs": [],
   "source": [
    "results_df.to_csv('Data/Modeling_v1.csv')"
   ]
  }
 ],
 "metadata": {
  "kernelspec": {
   "display_name": "Python 3 (ipykernel)",
   "language": "python",
   "name": "python3"
  },
  "language_info": {
   "codemirror_mode": {
    "name": "ipython",
    "version": 3
   },
   "file_extension": ".py",
   "mimetype": "text/x-python",
   "name": "python",
   "nbconvert_exporter": "python",
   "pygments_lexer": "ipython3",
   "version": "3.11.7"
  }
 },
 "nbformat": 4,
 "nbformat_minor": 5
}
